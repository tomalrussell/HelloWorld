{
 "cells": [
  {
   "cell_type": "markdown",
   "metadata": {},
   "source": [
    "I/ EVENTBRITE"
   ]
  },
  {
   "cell_type": "code",
   "execution_count": 66,
   "metadata": {
    "collapsed": false
   },
   "outputs": [],
   "source": [
    "import requests\n",
    "import numpy\n",
    "import json\n",
    "from json import *\n",
    "import pandas as pd\n",
    "from pandas.io.json import json_normalize\n",
    "from datetime import *\n",
    "from time import mktime"
   ]
  },
  {
   "cell_type": "code",
   "execution_count": 67,
   "metadata": {
    "collapsed": false
   },
   "outputs": [
    {
     "name": "stdout",
     "output_type": "stream",
     "text": [
      "2016-05-29 13:19:13.735379\n",
      "2016-05-29T13:19:13\n"
     ]
    }
   ],
   "source": [
    "NOW=datetime.now()\n",
    "NOW_iso=datetime.now().isoformat()[:-7]\n",
    "print NOW\n",
    "print NOW_iso"
   ]
  },
  {
   "cell_type": "code",
   "execution_count": 68,
   "metadata": {
    "collapsed": false
   },
   "outputs": [
    {
     "name": "stdout",
     "output_type": "stream",
     "text": [
      "2016-05-29T13:19:13\n",
      "2016-05-30T13:19:13\n",
      "2016-05-31T13:19:13\n",
      "2016-06-01T13:19:13\n",
      "2016-06-02T13:19:13\n",
      "2016-06-03T13:19:13\n",
      "2016-06-04T13:19:13\n"
     ]
    }
   ],
   "source": [
    "for x in range(0,7): # for goes through each day from now on until +7\n",
    "    b = NOW + timedelta(days=x)\n",
    "    time=datetime.strftime(b,\"%Y-%m-%dT%H:%M:%S\")\n",
    "    #print b\n",
    "    print time"
   ]
  },
  {
   "cell_type": "code",
   "execution_count": 69,
   "metadata": {
    "collapsed": false
   },
   "outputs": [
    {
     "name": "stderr",
     "output_type": "stream",
     "text": [
      "/Users/anouchkalettre/Library/Enthought/Canopy_32bit/User/lib/python2.7/site-packages/requests/packages/urllib3/util/ssl_.py:79: InsecurePlatformWarning: A true SSLContext object is not available. This prevents urllib3 from configuring SSL appropriately and may cause certain SSL connections to fail. For more information, see https://urllib3.readthedocs.org/en/latest/security.html#insecureplatformwarning.\n",
      "  InsecurePlatformWarning\n"
     ]
    },
    {
     "name": "stdout",
     "output_type": "stream",
     "text": [
      "1 of 25\n"
     ]
    },
    {
     "name": "stderr",
     "output_type": "stream",
     "text": [
      "/Users/anouchkalettre/Library/Enthought/Canopy_32bit/User/lib/python2.7/site-packages/requests/packages/urllib3/util/ssl_.py:79: InsecurePlatformWarning: A true SSLContext object is not available. This prevents urllib3 from configuring SSL appropriately and may cause certain SSL connections to fail. For more information, see https://urllib3.readthedocs.org/en/latest/security.html#insecureplatformwarning.\n",
      "  InsecurePlatformWarning\n"
     ]
    },
    {
     "name": "stdout",
     "output_type": "stream",
     "text": [
      "2 of 25\n"
     ]
    },
    {
     "name": "stderr",
     "output_type": "stream",
     "text": [
      "/Users/anouchkalettre/Library/Enthought/Canopy_32bit/User/lib/python2.7/site-packages/requests/packages/urllib3/util/ssl_.py:79: InsecurePlatformWarning: A true SSLContext object is not available. This prevents urllib3 from configuring SSL appropriately and may cause certain SSL connections to fail. For more information, see https://urllib3.readthedocs.org/en/latest/security.html#insecureplatformwarning.\n",
      "  InsecurePlatformWarning\n"
     ]
    },
    {
     "name": "stdout",
     "output_type": "stream",
     "text": [
      "3 of 25\n"
     ]
    },
    {
     "name": "stderr",
     "output_type": "stream",
     "text": [
      "/Users/anouchkalettre/Library/Enthought/Canopy_32bit/User/lib/python2.7/site-packages/requests/packages/urllib3/util/ssl_.py:79: InsecurePlatformWarning: A true SSLContext object is not available. This prevents urllib3 from configuring SSL appropriately and may cause certain SSL connections to fail. For more information, see https://urllib3.readthedocs.org/en/latest/security.html#insecureplatformwarning.\n",
      "  InsecurePlatformWarning\n"
     ]
    },
    {
     "name": "stdout",
     "output_type": "stream",
     "text": [
      "4 of 25\n"
     ]
    },
    {
     "name": "stderr",
     "output_type": "stream",
     "text": [
      "/Users/anouchkalettre/Library/Enthought/Canopy_32bit/User/lib/python2.7/site-packages/requests/packages/urllib3/util/ssl_.py:79: InsecurePlatformWarning: A true SSLContext object is not available. This prevents urllib3 from configuring SSL appropriately and may cause certain SSL connections to fail. For more information, see https://urllib3.readthedocs.org/en/latest/security.html#insecureplatformwarning.\n",
      "  InsecurePlatformWarning\n"
     ]
    },
    {
     "name": "stdout",
     "output_type": "stream",
     "text": [
      "5 of 25\n"
     ]
    },
    {
     "name": "stderr",
     "output_type": "stream",
     "text": [
      "/Users/anouchkalettre/Library/Enthought/Canopy_32bit/User/lib/python2.7/site-packages/requests/packages/urllib3/util/ssl_.py:79: InsecurePlatformWarning: A true SSLContext object is not available. This prevents urllib3 from configuring SSL appropriately and may cause certain SSL connections to fail. For more information, see https://urllib3.readthedocs.org/en/latest/security.html#insecureplatformwarning.\n",
      "  InsecurePlatformWarning\n"
     ]
    },
    {
     "name": "stdout",
     "output_type": "stream",
     "text": [
      "6 of 25\n"
     ]
    },
    {
     "name": "stderr",
     "output_type": "stream",
     "text": [
      "/Users/anouchkalettre/Library/Enthought/Canopy_32bit/User/lib/python2.7/site-packages/requests/packages/urllib3/util/ssl_.py:79: InsecurePlatformWarning: A true SSLContext object is not available. This prevents urllib3 from configuring SSL appropriately and may cause certain SSL connections to fail. For more information, see https://urllib3.readthedocs.org/en/latest/security.html#insecureplatformwarning.\n",
      "  InsecurePlatformWarning\n"
     ]
    },
    {
     "name": "stdout",
     "output_type": "stream",
     "text": [
      "7 of 25\n"
     ]
    },
    {
     "name": "stderr",
     "output_type": "stream",
     "text": [
      "/Users/anouchkalettre/Library/Enthought/Canopy_32bit/User/lib/python2.7/site-packages/requests/packages/urllib3/util/ssl_.py:79: InsecurePlatformWarning: A true SSLContext object is not available. This prevents urllib3 from configuring SSL appropriately and may cause certain SSL connections to fail. For more information, see https://urllib3.readthedocs.org/en/latest/security.html#insecureplatformwarning.\n",
      "  InsecurePlatformWarning\n"
     ]
    },
    {
     "name": "stdout",
     "output_type": "stream",
     "text": [
      "8 of 25\n"
     ]
    },
    {
     "name": "stderr",
     "output_type": "stream",
     "text": [
      "/Users/anouchkalettre/Library/Enthought/Canopy_32bit/User/lib/python2.7/site-packages/requests/packages/urllib3/util/ssl_.py:79: InsecurePlatformWarning: A true SSLContext object is not available. This prevents urllib3 from configuring SSL appropriately and may cause certain SSL connections to fail. For more information, see https://urllib3.readthedocs.org/en/latest/security.html#insecureplatformwarning.\n",
      "  InsecurePlatformWarning\n"
     ]
    },
    {
     "name": "stdout",
     "output_type": "stream",
     "text": [
      "9 of 25\n"
     ]
    },
    {
     "name": "stderr",
     "output_type": "stream",
     "text": [
      "/Users/anouchkalettre/Library/Enthought/Canopy_32bit/User/lib/python2.7/site-packages/requests/packages/urllib3/util/ssl_.py:79: InsecurePlatformWarning: A true SSLContext object is not available. This prevents urllib3 from configuring SSL appropriately and may cause certain SSL connections to fail. For more information, see https://urllib3.readthedocs.org/en/latest/security.html#insecureplatformwarning.\n",
      "  InsecurePlatformWarning\n"
     ]
    },
    {
     "name": "stdout",
     "output_type": "stream",
     "text": [
      "10 of 25\n"
     ]
    },
    {
     "name": "stderr",
     "output_type": "stream",
     "text": [
      "/Users/anouchkalettre/Library/Enthought/Canopy_32bit/User/lib/python2.7/site-packages/requests/packages/urllib3/util/ssl_.py:79: InsecurePlatformWarning: A true SSLContext object is not available. This prevents urllib3 from configuring SSL appropriately and may cause certain SSL connections to fail. For more information, see https://urllib3.readthedocs.org/en/latest/security.html#insecureplatformwarning.\n",
      "  InsecurePlatformWarning\n"
     ]
    },
    {
     "name": "stdout",
     "output_type": "stream",
     "text": [
      "11 of 25\n"
     ]
    },
    {
     "name": "stderr",
     "output_type": "stream",
     "text": [
      "/Users/anouchkalettre/Library/Enthought/Canopy_32bit/User/lib/python2.7/site-packages/requests/packages/urllib3/util/ssl_.py:79: InsecurePlatformWarning: A true SSLContext object is not available. This prevents urllib3 from configuring SSL appropriately and may cause certain SSL connections to fail. For more information, see https://urllib3.readthedocs.org/en/latest/security.html#insecureplatformwarning.\n",
      "  InsecurePlatformWarning\n"
     ]
    },
    {
     "name": "stdout",
     "output_type": "stream",
     "text": [
      "12 of 25\n"
     ]
    },
    {
     "name": "stderr",
     "output_type": "stream",
     "text": [
      "/Users/anouchkalettre/Library/Enthought/Canopy_32bit/User/lib/python2.7/site-packages/requests/packages/urllib3/util/ssl_.py:79: InsecurePlatformWarning: A true SSLContext object is not available. This prevents urllib3 from configuring SSL appropriately and may cause certain SSL connections to fail. For more information, see https://urllib3.readthedocs.org/en/latest/security.html#insecureplatformwarning.\n",
      "  InsecurePlatformWarning\n"
     ]
    },
    {
     "name": "stdout",
     "output_type": "stream",
     "text": [
      "13 of 25\n"
     ]
    },
    {
     "name": "stderr",
     "output_type": "stream",
     "text": [
      "/Users/anouchkalettre/Library/Enthought/Canopy_32bit/User/lib/python2.7/site-packages/requests/packages/urllib3/util/ssl_.py:79: InsecurePlatformWarning: A true SSLContext object is not available. This prevents urllib3 from configuring SSL appropriately and may cause certain SSL connections to fail. For more information, see https://urllib3.readthedocs.org/en/latest/security.html#insecureplatformwarning.\n",
      "  InsecurePlatformWarning\n"
     ]
    },
    {
     "name": "stdout",
     "output_type": "stream",
     "text": [
      "14 of 25\n"
     ]
    },
    {
     "name": "stderr",
     "output_type": "stream",
     "text": [
      "/Users/anouchkalettre/Library/Enthought/Canopy_32bit/User/lib/python2.7/site-packages/requests/packages/urllib3/util/ssl_.py:79: InsecurePlatformWarning: A true SSLContext object is not available. This prevents urllib3 from configuring SSL appropriately and may cause certain SSL connections to fail. For more information, see https://urllib3.readthedocs.org/en/latest/security.html#insecureplatformwarning.\n",
      "  InsecurePlatformWarning\n"
     ]
    },
    {
     "name": "stdout",
     "output_type": "stream",
     "text": [
      "15 of 25\n"
     ]
    },
    {
     "name": "stderr",
     "output_type": "stream",
     "text": [
      "/Users/anouchkalettre/Library/Enthought/Canopy_32bit/User/lib/python2.7/site-packages/requests/packages/urllib3/util/ssl_.py:79: InsecurePlatformWarning: A true SSLContext object is not available. This prevents urllib3 from configuring SSL appropriately and may cause certain SSL connections to fail. For more information, see https://urllib3.readthedocs.org/en/latest/security.html#insecureplatformwarning.\n",
      "  InsecurePlatformWarning\n"
     ]
    },
    {
     "name": "stdout",
     "output_type": "stream",
     "text": [
      "16 of 25\n"
     ]
    },
    {
     "name": "stderr",
     "output_type": "stream",
     "text": [
      "/Users/anouchkalettre/Library/Enthought/Canopy_32bit/User/lib/python2.7/site-packages/requests/packages/urllib3/util/ssl_.py:79: InsecurePlatformWarning: A true SSLContext object is not available. This prevents urllib3 from configuring SSL appropriately and may cause certain SSL connections to fail. For more information, see https://urllib3.readthedocs.org/en/latest/security.html#insecureplatformwarning.\n",
      "  InsecurePlatformWarning\n"
     ]
    },
    {
     "name": "stdout",
     "output_type": "stream",
     "text": [
      "17 of 25\n"
     ]
    },
    {
     "name": "stderr",
     "output_type": "stream",
     "text": [
      "/Users/anouchkalettre/Library/Enthought/Canopy_32bit/User/lib/python2.7/site-packages/requests/packages/urllib3/util/ssl_.py:79: InsecurePlatformWarning: A true SSLContext object is not available. This prevents urllib3 from configuring SSL appropriately and may cause certain SSL connections to fail. For more information, see https://urllib3.readthedocs.org/en/latest/security.html#insecureplatformwarning.\n",
      "  InsecurePlatformWarning\n"
     ]
    },
    {
     "name": "stdout",
     "output_type": "stream",
     "text": [
      "18 of 25\n"
     ]
    },
    {
     "name": "stderr",
     "output_type": "stream",
     "text": [
      "/Users/anouchkalettre/Library/Enthought/Canopy_32bit/User/lib/python2.7/site-packages/requests/packages/urllib3/util/ssl_.py:79: InsecurePlatformWarning: A true SSLContext object is not available. This prevents urllib3 from configuring SSL appropriately and may cause certain SSL connections to fail. For more information, see https://urllib3.readthedocs.org/en/latest/security.html#insecureplatformwarning.\n",
      "  InsecurePlatformWarning\n"
     ]
    },
    {
     "name": "stdout",
     "output_type": "stream",
     "text": [
      "19 of 25\n"
     ]
    },
    {
     "name": "stderr",
     "output_type": "stream",
     "text": [
      "/Users/anouchkalettre/Library/Enthought/Canopy_32bit/User/lib/python2.7/site-packages/requests/packages/urllib3/util/ssl_.py:79: InsecurePlatformWarning: A true SSLContext object is not available. This prevents urllib3 from configuring SSL appropriately and may cause certain SSL connections to fail. For more information, see https://urllib3.readthedocs.org/en/latest/security.html#insecureplatformwarning.\n",
      "  InsecurePlatformWarning\n"
     ]
    },
    {
     "name": "stdout",
     "output_type": "stream",
     "text": [
      "20 of 25\n"
     ]
    },
    {
     "name": "stderr",
     "output_type": "stream",
     "text": [
      "/Users/anouchkalettre/Library/Enthought/Canopy_32bit/User/lib/python2.7/site-packages/requests/packages/urllib3/util/ssl_.py:79: InsecurePlatformWarning: A true SSLContext object is not available. This prevents urllib3 from configuring SSL appropriately and may cause certain SSL connections to fail. For more information, see https://urllib3.readthedocs.org/en/latest/security.html#insecureplatformwarning.\n",
      "  InsecurePlatformWarning\n"
     ]
    },
    {
     "name": "stdout",
     "output_type": "stream",
     "text": [
      "21 of 25\n"
     ]
    },
    {
     "name": "stderr",
     "output_type": "stream",
     "text": [
      "/Users/anouchkalettre/Library/Enthought/Canopy_32bit/User/lib/python2.7/site-packages/requests/packages/urllib3/util/ssl_.py:79: InsecurePlatformWarning: A true SSLContext object is not available. This prevents urllib3 from configuring SSL appropriately and may cause certain SSL connections to fail. For more information, see https://urllib3.readthedocs.org/en/latest/security.html#insecureplatformwarning.\n",
      "  InsecurePlatformWarning\n"
     ]
    },
    {
     "name": "stdout",
     "output_type": "stream",
     "text": [
      "22 of 25\n"
     ]
    },
    {
     "name": "stderr",
     "output_type": "stream",
     "text": [
      "/Users/anouchkalettre/Library/Enthought/Canopy_32bit/User/lib/python2.7/site-packages/requests/packages/urllib3/util/ssl_.py:79: InsecurePlatformWarning: A true SSLContext object is not available. This prevents urllib3 from configuring SSL appropriately and may cause certain SSL connections to fail. For more information, see https://urllib3.readthedocs.org/en/latest/security.html#insecureplatformwarning.\n",
      "  InsecurePlatformWarning\n"
     ]
    },
    {
     "name": "stdout",
     "output_type": "stream",
     "text": [
      "23 of 25\n"
     ]
    },
    {
     "name": "stderr",
     "output_type": "stream",
     "text": [
      "/Users/anouchkalettre/Library/Enthought/Canopy_32bit/User/lib/python2.7/site-packages/requests/packages/urllib3/util/ssl_.py:79: InsecurePlatformWarning: A true SSLContext object is not available. This prevents urllib3 from configuring SSL appropriately and may cause certain SSL connections to fail. For more information, see https://urllib3.readthedocs.org/en/latest/security.html#insecureplatformwarning.\n",
      "  InsecurePlatformWarning\n"
     ]
    },
    {
     "name": "stdout",
     "output_type": "stream",
     "text": [
      "24 of 25\n"
     ]
    },
    {
     "name": "stderr",
     "output_type": "stream",
     "text": [
      "/Users/anouchkalettre/Library/Enthought/Canopy_32bit/User/lib/python2.7/site-packages/requests/packages/urllib3/util/ssl_.py:79: InsecurePlatformWarning: A true SSLContext object is not available. This prevents urllib3 from configuring SSL appropriately and may cause certain SSL connections to fail. For more information, see https://urllib3.readthedocs.org/en/latest/security.html#insecureplatformwarning.\n",
      "  InsecurePlatformWarning\n"
     ]
    },
    {
     "name": "stdout",
     "output_type": "stream",
     "text": [
      "25 of 25\n"
     ]
    }
   ],
   "source": [
    "# example get request: if u have just this in the browser it works\n",
    "# https://www.eventbriteapi.com/v3/users/me/HWAHYIYGUC4XIK2NR334\n",
    "\n",
    "\n",
    "def get_events(page): #  funct(argument) : must pass in the page number\n",
    "    token = \"HWAHYIYGUC4XIK2NR334\" ## put your Eventbrite Personal OAuth token in this string =) create one do not use mine please :-\n",
    "    # set params for API request. Docs:\n",
    "    data = {\n",
    "        \"expand\":\"category,ticket_classes,venue,format\",\n",
    "        \"venue.city\": \"london\",\n",
    "        \"start_date.range_start\": str(NOW_iso),\n",
    "        \"start_date.range_end\": time,\n",
    "        \"sort_by\":\"date\",\n",
    "        \"page\": page , # request page from API\n",
    "    }\n",
    "        \n",
    "    response = requests.get(  #make an http request (insteaf of get =put,post,delete) \n",
    "        \"https://www.eventbriteapi.com/v3/events/search/\", #URL\n",
    "        headers = {  # headers = metadata (ex :cooky)      #header (=object) = KEY + VALUE\n",
    "            \"Authorization\": \"Bearer \"+token,             # \"Bearer\" is specific to eventbrite API\n",
    "        },      \n",
    "        params=data,  # question marks = all the infos at the end of the url (everything foldng up into a string)\n",
    "        verify = True,  # Verify SSL certificate (because our url statrs with htpps = secure url)\n",
    "    )\n",
    " \n",
    "    return response.json()\n",
    "\n",
    "\n",
    "events = [] #create empty array of events\n",
    "last = False #are we on the last page? \n",
    "page = 1     #current page number\n",
    "\n",
    "while(not last): #while not on last page\n",
    "    \n",
    "    r = get_events(page)  #get this page of events\n",
    "    print str(page) + \" of \" + str(r['pagination']['page_count'])\n",
    "    events = events + r['events']\n",
    "    last = r['pagination']['page_count'] == page\n",
    "    page = page + 1\n",
    "    \n",
    "\u001c"
   ]
  },
  {
   "cell_type": "code",
   "execution_count": 70,
   "metadata": {
    "collapsed": false
   },
   "outputs": [
    {
     "data": {
      "text/plain": [
       "1247"
      ]
     },
     "execution_count": 70,
     "metadata": {},
     "output_type": "execute_result"
    }
   ],
   "source": [
    "len(events)"
   ]
  },
  {
   "cell_type": "code",
   "execution_count": 71,
   "metadata": {
    "collapsed": false
   },
   "outputs": [],
   "source": [
    "from pandas.io.json import json_normalize"
   ]
  },
  {
   "cell_type": "code",
   "execution_count": 72,
   "metadata": {
    "collapsed": false
   },
   "outputs": [],
   "source": [
    "test = json_normalize(events)\n",
    "#sorted(set(test))\n",
    "#test"
   ]
  },
  {
   "cell_type": "code",
   "execution_count": 73,
   "metadata": {
    "collapsed": false
   },
   "outputs": [],
   "source": [
    "import math \n",
    "#create a list of dictionaries, one dict for each event\n",
    "filtered_events = []\n",
    "\n",
    "for i, event in test.iterrows(): # loop over the full data frame\n",
    "    # save just the fields that we are interested in\n",
    "    \n",
    "    cat_name = event['category.name']\n",
    "    if cat_name == \"Film, Media & Entertainment\" or cat_name == \"Performing & Visual Arts\" or cat_name == \"Community & Culture\" or cat_name == \"Music\" :\n",
    "        cat_name = \"Culture & Art\"\n",
    "        \n",
    "    if cat_name == \"Religion & Spirituality\" or cat_name == \"Family & Education\" or cat_name == \"Science & Technology\" or cat_name == \"Government & Politics\" or cat_name == \"Business & Professional\": \n",
    "            cat_name = \"Business & Education\"\n",
    "    \n",
    "    if cat_name == \"Seasonal & Holiday\" or cat_name == \"Sports & Fitness\" or cat_name == \"Travel & Outdoor\" or cat_name ==\"Auto, Boat & Air\": \n",
    "        cat_name = \"Sport & Travel\"\n",
    "            \n",
    "    if cat_name == \"Fashion & Beauty\" or cat_name == \"Health & Wellness\" : cat_name = \"Fashion & Health\" \n",
    "    \n",
    "    if cat_name == \"Food & Drink\" : cat_name = \"Food & Drink\" \n",
    "        \n",
    "    if cat_name == \"Home & Lifestyle\" or cat_name == \"Hobbies & Special Interest\" or cat_name == \"Charity & Causes\" or cat_name == \"Other\":\n",
    "        cat_name = \"Melting Pot & Co\"\n",
    "    prices = []\n",
    "    any_donation = False\n",
    "    availability = []\n",
    "    \n",
    "    for ticket in event['ticket_classes']:\n",
    "        if 'on_sale_status' in ticket and (ticket['on_sale_status'] == 'SOLD_OUT' or ticket['on_sale_status'] == 'UNAVAILABLE'):\n",
    "            availability.append(False)\n",
    "        else:\n",
    "            availability.append(True)\n",
    "            \n",
    "            if ticket['free'] or ticket['donation']:\n",
    "                prices.append(0)\n",
    "            else:\n",
    "                prices.append(ticket['cost']['value'])     \n",
    "            if ticket['donation']:\n",
    "                any_donation = True   \n",
    "            \n",
    "    #if no tickets display the prices as none        \n",
    "    if len(prices) > 0:\n",
    "        min_price = min(prices)\n",
    "        max_price = max(prices)\n",
    "    else:\n",
    "        min_price = None\n",
    "        max_price = None  \n",
    "            \n",
    "            \n",
    "    e = { \n",
    "        \"category\": cat_name ,\n",
    "        \"format\":event['format.name'],\n",
    "        \"name\": event['name.text'],\n",
    "        \"venue\" : event['venue.name'],\n",
    "        \"start\":event['start.utc'],\n",
    "        \"end\" :event['end.utc'],\n",
    "        \"postcode\" : event['venue.address.postal_code'],\n",
    "        \"Adress\" : event['venue.address.address_1'],\n",
    "        \"latitutde\":event['venue.address.latitude'],\n",
    "        \"longitude\":event['venue.address.longitude'],\n",
    "        \"min_price\": min_price,\n",
    "        \"max_price\": max_price,\n",
    "        \"availability\": any(availability),\n",
    "        \"donation\": any_donation,\n",
    "        } \n",
    "    \n",
    "    # append to output\n",
    "    filtered_events.append(e)\n",
    "    # info about all events : \n",
    "    # if event['ticket_classes'] :\n",
    "           \n",
    "    # to get info about just the first event donation :\n",
    "    #if len(event['ticket_classes']) > 0 and event['ticket_classes'][0]['donation']:\n",
    "       # print e\n",
    "        #break allows to see the result for the first event \n",
    "       # break #stop looping use for loops test\n",
    "    \n",
    "#filtered_events"
   ]
  },
  {
   "cell_type": "code",
   "execution_count": 74,
   "metadata": {
    "collapsed": false
   },
   "outputs": [
    {
     "data": {
      "text/plain": [
       "Adress           object\n",
       "availability       bool\n",
       "category         object\n",
       "donation           bool\n",
       "end              object\n",
       "format           object\n",
       "latitutde       float64\n",
       "longitude       float64\n",
       "max_price       float64\n",
       "min_price       float64\n",
       "name             object\n",
       "postcode         object\n",
       "start            object\n",
       "venue            object\n",
       "dtype: object"
      ]
     },
     "execution_count": 74,
     "metadata": {},
     "output_type": "execute_result"
    }
   ],
   "source": [
    "final_set = json_normalize(filtered_events)\n",
    "#final_set\n",
    "final_set.dtypes"
   ]
  },
  {
   "cell_type": "code",
   "execution_count": 75,
   "metadata": {
    "collapsed": false
   },
   "outputs": [
    {
     "data": {
      "text/plain": [
       "['Business & Education',\n",
       " 'Culture & Art',\n",
       " 'Fashion & Health',\n",
       " 'Food & Drink',\n",
       " 'Melting Pot & Co',\n",
       " 'Sport & Travel']"
      ]
     },
     "execution_count": 75,
     "metadata": {},
     "output_type": "execute_result"
    }
   ],
   "source": [
    "#test final set to detect Missing values in order to insert the blanks\n",
    "#print final_set.isnull()\n",
    "\n",
    "final_set['category']=final_set['category'].fillna('Melting Pot & Co')\n",
    "final_set['format']=final_set['format'].fillna('Melting Pot & Co')\n",
    "\n",
    "sorted(set(final_set[\"category\"]))"
   ]
  },
  {
   "cell_type": "code",
   "execution_count": 76,
   "metadata": {
    "collapsed": false,
    "scrolled": true
   },
   "outputs": [
    {
     "data": {
      "text/html": [
       "<div style=\"max-height:1000px;max-width:1500px;overflow:auto;\">\n",
       "<table border=\"1\" class=\"dataframe\">\n",
       "  <thead>\n",
       "    <tr style=\"text-align: right;\">\n",
       "      <th></th>\n",
       "      <th>availability</th>\n",
       "      <th>donation</th>\n",
       "      <th>latitutde</th>\n",
       "      <th>longitude</th>\n",
       "      <th>max_price</th>\n",
       "      <th>min_price</th>\n",
       "    </tr>\n",
       "  </thead>\n",
       "  <tbody>\n",
       "    <tr>\n",
       "      <th>count</th>\n",
       "      <td>      1247</td>\n",
       "      <td>       1247</td>\n",
       "      <td> 1247.000000</td>\n",
       "      <td> 1247.000000</td>\n",
       "      <td>   1155.000000</td>\n",
       "      <td>   1155.000000</td>\n",
       "    </tr>\n",
       "    <tr>\n",
       "      <th>mean</th>\n",
       "      <td> 0.9262229</td>\n",
       "      <td> 0.02405774</td>\n",
       "      <td>   50.868869</td>\n",
       "      <td>   -2.052950</td>\n",
       "      <td>   6279.317749</td>\n",
       "      <td>   4497.910823</td>\n",
       "    </tr>\n",
       "    <tr>\n",
       "      <th>std</th>\n",
       "      <td> 0.2615126</td>\n",
       "      <td>  0.1532899</td>\n",
       "      <td>    5.164000</td>\n",
       "      <td>   12.363409</td>\n",
       "      <td>  24612.112555</td>\n",
       "      <td>  20439.358518</td>\n",
       "    </tr>\n",
       "    <tr>\n",
       "      <th>min</th>\n",
       "      <td>     False</td>\n",
       "      <td>      False</td>\n",
       "      <td>  -34.884496</td>\n",
       "      <td>  -88.739875</td>\n",
       "      <td>      0.000000</td>\n",
       "      <td>      0.000000</td>\n",
       "    </tr>\n",
       "    <tr>\n",
       "      <th>25%</th>\n",
       "      <td>         1</td>\n",
       "      <td>          0</td>\n",
       "      <td>   51.501524</td>\n",
       "      <td>   -0.141332</td>\n",
       "      <td>      0.000000</td>\n",
       "      <td>      0.000000</td>\n",
       "    </tr>\n",
       "    <tr>\n",
       "      <th>50%</th>\n",
       "      <td>         1</td>\n",
       "      <td>          0</td>\n",
       "      <td>   51.515032</td>\n",
       "      <td>   -0.119413</td>\n",
       "      <td>    500.000000</td>\n",
       "      <td>      0.000000</td>\n",
       "    </tr>\n",
       "    <tr>\n",
       "      <th>75%</th>\n",
       "      <td>         1</td>\n",
       "      <td>          0</td>\n",
       "      <td>   51.526035</td>\n",
       "      <td>   -0.083458</td>\n",
       "      <td>   2000.000000</td>\n",
       "      <td>   1500.000000</td>\n",
       "    </tr>\n",
       "    <tr>\n",
       "      <th>max</th>\n",
       "      <td>      True</td>\n",
       "      <td>       True</td>\n",
       "      <td>   53.758419</td>\n",
       "      <td>    0.135416</td>\n",
       "      <td> 300000.000000</td>\n",
       "      <td> 300000.000000</td>\n",
       "    </tr>\n",
       "  </tbody>\n",
       "</table>\n",
       "</div>"
      ],
      "text/plain": [
       "      availability    donation    latitutde    longitude      max_price  \\\n",
       "count         1247        1247  1247.000000  1247.000000    1155.000000   \n",
       "mean     0.9262229  0.02405774    50.868869    -2.052950    6279.317749   \n",
       "std      0.2615126   0.1532899     5.164000    12.363409   24612.112555   \n",
       "min          False       False   -34.884496   -88.739875       0.000000   \n",
       "25%              1           0    51.501524    -0.141332       0.000000   \n",
       "50%              1           0    51.515032    -0.119413     500.000000   \n",
       "75%              1           0    51.526035    -0.083458    2000.000000   \n",
       "max           True        True    53.758419     0.135416  300000.000000   \n",
       "\n",
       "           min_price  \n",
       "count    1155.000000  \n",
       "mean     4497.910823  \n",
       "std     20439.358518  \n",
       "min         0.000000  \n",
       "25%         0.000000  \n",
       "50%         0.000000  \n",
       "75%      1500.000000  \n",
       "max    300000.000000  "
      ]
     },
     "execution_count": 76,
     "metadata": {},
     "output_type": "execute_result"
    }
   ],
   "source": [
    "new_df=pd.DataFrame(final_set)\n",
    "new_df.head(15)\n",
    "new_df.describe()"
   ]
  },
  {
   "cell_type": "code",
   "execution_count": 77,
   "metadata": {
    "collapsed": false
   },
   "outputs": [],
   "source": [
    "#drop Nan Values in our dataframe for missing categories\n",
    "#new_df=df.dropna(axis=0, how='any', thresh=None, subset=[\"category\"], inplace=False)\n",
    "#len(new_df)\n"
   ]
  },
  {
   "cell_type": "code",
   "execution_count": 78,
   "metadata": {
    "collapsed": false
   },
   "outputs": [
    {
     "data": {
      "text/plain": [
       "0     2016-05-29T12:30:00\n",
       "1     2016-05-29T12:30:00\n",
       "2     2016-05-29T13:00:00\n",
       "3     2016-05-29T13:00:00\n",
       "4     2016-05-29T13:00:00\n",
       "5     2016-05-29T13:00:00\n",
       "6     2016-05-29T13:00:00\n",
       "7     2016-05-29T13:00:00\n",
       "8     2016-05-29T13:00:00\n",
       "9     2016-05-29T13:00:00\n",
       "10    2016-05-29T13:30:00\n",
       "11    2016-05-29T13:30:00\n",
       "12    2016-05-29T13:30:00\n",
       "13    2016-05-29T13:30:00\n",
       "14    2016-05-29T13:30:00\n",
       "...\n",
       "1232    2016-06-04T12:00:00\n",
       "1233    2016-06-04T12:00:00\n",
       "1234    2016-06-04T12:00:00\n",
       "1235    2016-06-04T12:00:00\n",
       "1236    2016-06-04T12:00:00\n",
       "1237    2016-06-04T12:00:00\n",
       "1238    2016-06-04T12:00:00\n",
       "1239    2016-06-04T12:00:00\n",
       "1240    2016-06-04T12:00:00\n",
       "1241    2016-06-04T12:00:00\n",
       "1242    2016-06-04T12:00:00\n",
       "1243    2016-06-04T12:00:00\n",
       "1244    2016-06-04T12:00:00\n",
       "1245    2016-06-04T12:00:00\n",
       "1246    2016-06-04T12:15:00\n",
       "Name: start_iso, Length: 1247, dtype: object"
      ]
     },
     "execution_count": 78,
     "metadata": {},
     "output_type": "execute_result"
    }
   ],
   "source": [
    "#Add a column start at datetime format so one datetime is numeric\n",
    "new_df['start_utc']= pd.to_datetime(new_df['start'])\n",
    "new_df['start_iso']=[datetime.isoformat(x) for x in new_df['start_utc']]\n",
    "new_df['end_utc']= pd.to_datetime(new_df['end'])\n",
    "new_df['end_iso']=[datetime.isoformat(x) for x in new_df['end_utc']]\n",
    "\n",
    "new_df['start_utc']\n",
    "new_df['start_iso']\n"
   ]
  },
  {
   "cell_type": "markdown",
   "metadata": {},
   "source": [
    "#### DATATYPE SOLVING AND START COLUMN FORMAT TO ADD"
   ]
  },
  {
   "cell_type": "code",
   "execution_count": 79,
   "metadata": {
    "collapsed": false
   },
   "outputs": [
    {
     "ename": "IOError",
     "evalue": "File not open for writing",
     "output_type": "error",
     "traceback": [
      "\u001b[0;31m---------------------------------------------------------------------------\u001b[0m",
      "\u001b[0;31mIOError\u001b[0m                                   Traceback (most recent call last)",
      "\u001b[0;32m<ipython-input-79-40eeb6b97348>\u001b[0m in \u001b[0;36m<module>\u001b[0;34m()\u001b[0m\n\u001b[1;32m     34\u001b[0m      \u001b[0;31m#http://devdocs.io/python~3.5/library/json#json.dumps #json package and then dumps turn the dict or array into a json encoding string\u001b[0m\u001b[0;34m\u001b[0m\u001b[0;34m\u001b[0m\u001b[0m\n\u001b[1;32m     35\u001b[0m     \u001b[0ms\u001b[0m \u001b[0;34m=\u001b[0m \u001b[0mjson\u001b[0m\u001b[0;34m.\u001b[0m\u001b[0mdumps\u001b[0m\u001b[0;34m(\u001b[0m\u001b[0;34m{\u001b[0m\u001b[0;34m\"type\"\u001b[0m\u001b[0;34m:\u001b[0m\u001b[0;34m\"FeatureCollection\"\u001b[0m\u001b[0;34m,\u001b[0m\u001b[0;34m\"features\"\u001b[0m\u001b[0;34m:\u001b[0m \u001b[0mshort_geojson_events\u001b[0m\u001b[0;34m}\u001b[0m\u001b[0;34m,\u001b[0m \u001b[0mindent\u001b[0m\u001b[0;34m=\u001b[0m\u001b[0;36m2\u001b[0m\u001b[0;34m)\u001b[0m \u001b[0;31m#indent = If indent is a non-negative integer or string, then JSON array elements and object members will be pretty-printed with that indent level.\u001b[0m\u001b[0;34m\u001b[0m\u001b[0m\n\u001b[0;32m---> 36\u001b[0;31m     \u001b[0mout_file\u001b[0m\u001b[0;34m.\u001b[0m\u001b[0mwrite\u001b[0m\u001b[0;34m(\u001b[0m\u001b[0ms\u001b[0m\u001b[0;34m)\u001b[0m       \u001b[0;31m# with a file handle you can call write and write strings\u001b[0m\u001b[0;34m\u001b[0m\u001b[0m\n\u001b[0m\u001b[1;32m     37\u001b[0m \u001b[0;34m\u001b[0m\u001b[0m\n\u001b[1;32m     38\u001b[0m \u001b[0mlen\u001b[0m\u001b[0;34m(\u001b[0m\u001b[0mshort_geojson_events\u001b[0m\u001b[0;34m)\u001b[0m\u001b[0;34m\u001b[0m\u001b[0m\n",
      "\u001b[0;31mIOError\u001b[0m: File not open for writing"
     ]
    }
   ],
   "source": [
    "#rewrite the file in Python (or use JQ) as a GEOjson format to be read in leaflet\n",
    "\n",
    "short_geojson_events = []   #stok into an array\n",
    "#short_df = df[0:5]   #\n",
    "\n",
    "import math\n",
    "\n",
    "for i, row in new_df.iterrows(): #for each event in my dataframe\n",
    "#for i, row in short_df.iterrows(): #for each event in my short dataframe df[0:5] \n",
    "        \n",
    "     #if i >= 200:    #break in my df for loop\n",
    "     #   break\n",
    "        \n",
    "     min_price=0 #set it to 0 \n",
    "     if not math.isnan(new_df.min_price[i] ): #if not Nan Set it to number\n",
    "            min_price = new_df.min_price[i]\n",
    "     \n",
    "     max_price=0 #set it to 0 \n",
    "     if not math.isnan(new_df.max_price[i] ): #if not Nan Set it to number\n",
    "            max_price = new_df.max_price[i]\n",
    "     \n",
    "        \n",
    "     o = { # create a dictionary (geojson model)\n",
    "        \"type\": \"Feature\",\n",
    "        \"geometry\": {\"type\": \"Point\", \"coordinates\": [(row.longitude),(new_df.latitutde[i])]}, # TRY 1 : with array of floats for the coordinates\n",
    "        \"properties\": {\"start_utc\": str(new_df.start_utc[i]),\"start_iso\": new_df.start_iso[i],\"end_utc\": str(new_df.end_utc[i]),\"end_iso\": new_df.end_iso[i],\"category\": new_df.category[i], \"name\": new_df.name[i], \"venue\" : new_df.venue[i], \"start\": new_df.start[i], \"end\":new_df.end[i], \"postcode\":new_df.postcode[i],\"Adress\": new_df.Adress[i], \"min_price\": (min_price), \"max_price\": (max_price), \"availability\": str(new_df.availability[i]), \"donation\": str(new_df.donation[i]) }\n",
    "        }\n",
    "     \n",
    "     short_geojson_events.append(o)\n",
    "\n",
    "\n",
    "\n",
    "with open('events.json') as out_file: # open the file with this name for 'w' writing ('r' = reading), and set the out_file as a file handle\n",
    "     #http://devdocs.io/python~3.5/library/json#json.dumps #json package and then dumps turn the dict or array into a json encoding string\n",
    "    s = json.dumps({\"type\":\"FeatureCollection\",\"features\": short_geojson_events}, indent=2) #indent = If indent is a non-negative integer or string, then JSON array elements and object members will be pretty-printed with that indent level.\n",
    "    out_file.write(s)       # with a file handle you can call write and write strings\n",
    "    \n",
    "len(short_geojson_events)\n",
    "#s"
   ]
  },
  {
   "cell_type": "markdown",
   "metadata": {
    "collapsed": true
   },
   "source": [
    "II/ WEATHER DATA : FORECAST API"
   ]
  },
  {
   "cell_type": "code",
   "execution_count": null,
   "metadata": {
    "collapsed": true
   },
   "outputs": [],
   "source": [
    "import requests\n",
    "import json\n",
    "import pandas as pd\n",
    "from pandas.io.json import json_normalize\n",
    "from datetime import *\n",
    "\n"
   ]
  },
  {
   "cell_type": "code",
   "execution_count": null,
   "metadata": {
    "collapsed": false
   },
   "outputs": [],
   "source": [
    "NOW=datetime.now()\n",
    "NOW_iso=datetime.now().isoformat()\n",
    "print NOW\n",
    "print NOW_iso\n",
    "\n",
    "hour=datetime.strftime(NOW,\"%Y-%m-%dT%H:%M:%S\")\n",
    "hour"
   ]
  },
  {
   "cell_type": "code",
   "execution_count": null,
   "metadata": {
    "collapsed": false
   },
   "outputs": [],
   "source": [
    "#an empty list where each element is the day\n",
    "data=[]\n",
    "\n",
    "#Extract data from day 0 to day 7 according to what's needed = 1 week ahead from now\n",
    "for x in range(0,7): # for goes through each day from now on until +7\n",
    "    b = NOW + timedelta(days=x) \n",
    "    time=datetime.strftime(NOW,\"%H:%M:%S\")  #set the start time to time now\n",
    "    query = ('https://api.forecast.io/forecast/0df21d512781e37a9c5911805db70e15/51.5085300,-0.1257400,2016-'+b.strftime('%m')+'-'+b.strftime('%d')+'T'+str(time))\n",
    "    data.append(requests.get(query).json())"
   ]
  },
  {
   "cell_type": "code",
   "execution_count": null,
   "metadata": {
    "collapsed": false
   },
   "outputs": [],
   "source": [
    "query = 'https://api.forecast.io/forecast/0df21d512781e37a9c5911805db70e15/51.5085300,-0.1257400'\n",
    "requests.get(query).json()"
   ]
  },
  {
   "cell_type": "code",
   "execution_count": null,
   "metadata": {
    "collapsed": true
   },
   "outputs": [],
   "source": [
    "#From Json format to dataframe : data normalization\n",
    "df_current=json_normalize(data)"
   ]
  },
  {
   "cell_type": "code",
   "execution_count": null,
   "metadata": {
    "collapsed": false
   },
   "outputs": [],
   "source": [
    "#unix format = column currently.time\n",
    "df_current['unixtime']= df_current['currently.time']\n",
    "\n",
    "#list comprehension to add a column datetime in UTC datetime format\n",
    "df_current['utc.datetime']=[datetime.fromtimestamp(x) for x in df_current['unixtime']]\n",
    "#just the utc date and just the utctime\n",
    "df_current['utc.date']=[datetime.strptime(str(df_current['utc.datetime'][x])[:-9],\"%Y-%m-%d\").date() for x in range(0,7)]\n",
    "df_current['utc.time']=[datetime.strptime(str(df_current['utc.datetime'][x])[11:-3],\"%M:%S\").time() for x in range(0,7)]\n",
    " \n",
    "#list comprehension to add iso format from UTC datetime objects \n",
    "df_current['iso.datetime']=[datetime.isoformat(x) for x in df_current['utc.datetime']]\n",
    "\n",
    "print df_current['unixtime'][0:2]\n",
    "print df_current['utc.datetime'][0:2]\n",
    "print df_current['iso.datetime'][0:2]\n",
    "df_current.head(2)"
   ]
  },
  {
   "cell_type": "code",
   "execution_count": null,
   "metadata": {
    "collapsed": false
   },
   "outputs": [],
   "source": [
    "#FromNowTo24h=[]\n",
    "oneweek=[]\n",
    "\n",
    "for days in range (0,7):\n",
    "    for x in range(0,24):  # for goes through each day from now on until +7\n",
    "            b_weather = NOW +timedelta(days=days,hours=x)\n",
    "            #b_weather = NOW + timedelta(hours=x)\n",
    "            time_weather=datetime.strftime(b_weather,\"%Y-%m-%dT%H:%M:%S\")\n",
    "            print time_weather\n",
    "            #FromNowTo24h.append(time_weather)\n",
    "            oneweek.append(time_weather)\n",
    "    #oneday\n",
    "    #oneweek"
   ]
  },
  {
   "cell_type": "code",
   "execution_count": null,
   "metadata": {
    "collapsed": false
   },
   "outputs": [],
   "source": [
    "x = len(df_current['hourly.data'][0])\n",
    "y = len(df_current['hourly.data'])\n",
    "w = len(df_current['daily.data'])\n",
    "\n",
    "keys = ['icon','temperature','precipProbability','time']   #to be defined according to interests\n",
    "\n",
    "# df_hourly is a List comprehension in three parts : \n",
    "# 1)goes through all the days 2)goes through all the hours 3) goes through the 'keys' list created to select only this data\n",
    "df_hourly = pd.DataFrame([[[df_current['hourly.data'][days][hours][key] for key in keys] for hours in range(x)] for days in range(y)])\n",
    "df_daily = pd.DataFrame([df_current['daily.data'][days][0] for days in range(w)],index= df_current['utc.date'])\n",
    "\n",
    "\n",
    "# change the index into a column\n",
    "df_daily.reset_index(level=1, inplace=True)\n",
    "#df_daily.head(2)\n",
    "\n",
    "# 24 hours (x) of meteo data for 7 days (y)\n",
    "df_hourly.head(3)"
   ]
  },
  {
   "cell_type": "code",
   "execution_count": null,
   "metadata": {
    "collapsed": false
   },
   "outputs": [],
   "source": [
    "df_hourly.to_json(path_or_buf='newweather.json', orient=None, date_format='epoch', double_precision=10, force_ascii=True, date_unit='ms', default_handler=None)\n",
    "c=[df_hourly.to_json()]\n",
    "c"
   ]
  },
  {
   "cell_type": "code",
   "execution_count": null,
   "metadata": {
    "collapsed": true
   },
   "outputs": [],
   "source": []
  },
  {
   "cell_type": "code",
   "execution_count": null,
   "metadata": {
    "collapsed": false
   },
   "outputs": [],
   "source": [
    "#display weather day 1 at midnight\n",
    "for x data in range (0,)\n",
    "df_hourly[0][0]"
   ]
  },
  {
   "cell_type": "code",
   "execution_count": null,
   "metadata": {
    "collapsed": true
   },
   "outputs": [],
   "source": [
    "#df_hourly_final.to_json('new_weather.json')"
   ]
  },
  {
   "cell_type": "code",
   "execution_count": null,
   "metadata": {
    "collapsed": true
   },
   "outputs": [],
   "source": []
  },
  {
   "cell_type": "code",
   "execution_count": null,
   "metadata": {
    "collapsed": true
   },
   "outputs": [],
   "source": []
  }
 ],
 "metadata": {
  "kernelspec": {
   "display_name": "Python 2",
   "language": "python",
   "name": "python2"
  },
  "language_info": {
   "codemirror_mode": {
    "name": "ipython",
    "version": 2
   },
   "file_extension": ".py",
   "mimetype": "text/x-python",
   "name": "python",
   "nbconvert_exporter": "python",
   "pygments_lexer": "ipython2",
   "version": "2.7.6"
  }
 },
 "nbformat": 4,
 "nbformat_minor": 0
}
